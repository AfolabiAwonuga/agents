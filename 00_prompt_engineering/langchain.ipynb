{
 "cells": [
  {
   "cell_type": "code",
   "execution_count": 1,
   "metadata": {},
   "outputs": [
    {
     "data": {
      "text/plain": [
       "True"
      ]
     },
     "execution_count": 1,
     "metadata": {},
     "output_type": "execute_result"
    }
   ],
   "source": [
    "import os\n",
    "import openai\n",
    "from dotenv import load_dotenv\n",
    "from langchain.chat_models import ChatOpenAI\n",
    "from langchain.prompts import ChatPromptTemplate\n",
    "from langchain.output_parsers import ResponseSchema\n",
    "from langchain.output_parsers import StructuredOutputParser\n",
    "load_dotenv()"
   ]
  },
  {
   "cell_type": "code",
   "execution_count": 2,
   "metadata": {},
   "outputs": [],
   "source": [
    "openai.organization = os.getenv(\"OPENAI_ORG_ID\")\n",
    "openai.api_key = os.getenv(\"OPENAI_API_KEY\")"
   ]
  },
  {
   "cell_type": "markdown",
   "metadata": {},
   "source": [
    "- Models - Language models\n",
    "- Prompts - Inputs to LM\n",
    "- Parsers - Parse LM output \n"
   ]
  },
  {
   "cell_type": "markdown",
   "metadata": {},
   "source": [
    "#### Model"
   ]
  },
  {
   "cell_type": "code",
   "execution_count": 3,
   "metadata": {},
   "outputs": [],
   "source": [
    "chat = ChatOpenAI(temperature=0.0, model='gpt-3.5-turbo')"
   ]
  },
  {
   "cell_type": "markdown",
   "metadata": {},
   "source": [
    "#### Output parser"
   ]
  },
  {
   "cell_type": "code",
   "execution_count": 4,
   "metadata": {},
   "outputs": [],
   "source": [
    "english_schema = ResponseSchema(\n",
    "    name='English',\n",
    "    description='English translation of response'\n",
    ")\n",
    "\n",
    "french_schema = ResponseSchema(\n",
    "    name='French',\n",
    "    description='French translation of response'\n",
    ")\n",
    "\n",
    "response_schema = [english_schema, french_schema]"
   ]
  },
  {
   "cell_type": "code",
   "execution_count": 5,
   "metadata": {},
   "outputs": [],
   "source": [
    "parser = StructuredOutputParser.from_response_schemas(response_schemas=response_schema)"
   ]
  },
  {
   "cell_type": "code",
   "execution_count": 6,
   "metadata": {},
   "outputs": [],
   "source": [
    "output_format = parser.get_format_instructions()"
   ]
  },
  {
   "cell_type": "markdown",
   "metadata": {},
   "source": [
    "#### Prompt template"
   ]
  },
  {
   "cell_type": "code",
   "execution_count": 7,
   "metadata": {},
   "outputs": [],
   "source": [
    "template = '''\n",
    "You are an expert in sports, \n",
    "your task is to give a brief history of the football club \n",
    "delimeted by triple backticks in english and french.\n",
    "\n",
    "English: \n",
    "Frensh:\n",
    "```{football_club}```\n",
    "\n",
    "{output_format}\n",
    "'''"
   ]
  },
  {
   "cell_type": "code",
   "execution_count": 9,
   "metadata": {},
   "outputs": [],
   "source": [
    "prompt_template = ChatPromptTemplate.from_template(template)"
   ]
  },
  {
   "cell_type": "code",
   "execution_count": 10,
   "metadata": {},
   "outputs": [
    {
     "data": {
      "text/plain": [
       "['football_club', 'output_format']"
      ]
     },
     "execution_count": 10,
     "metadata": {},
     "output_type": "execute_result"
    }
   ],
   "source": [
    "prompt_template.messages[0].prompt.input_variables"
   ]
  },
  {
   "cell_type": "markdown",
   "metadata": {},
   "source": [
    "#### Query"
   ]
  },
  {
   "cell_type": "code",
   "execution_count": 11,
   "metadata": {},
   "outputs": [],
   "source": [
    "query = prompt_template.format_messages(\n",
    "    football_club = 'Barcelona',\n",
    "    output_format = output_format\n",
    ")"
   ]
  },
  {
   "cell_type": "code",
   "execution_count": 12,
   "metadata": {},
   "outputs": [
    {
     "data": {
      "text/plain": [
       "'\\nYou are an expert in sports, \\nyour task is to give a brief history of the football club \\ndelimeted by triple backticks in english and french.\\n\\nEnglish: \\nFrensh:\\n```Barcelona```\\n\\nThe output should be a markdown code snippet formatted in the following schema, including the leading and trailing \"```json\" and \"```\":\\n\\n```json\\n{\\n\\t\"English\": string  // English translation of response\\n\\t\"French\": string  // French translation of response\\n}\\n```\\n'"
      ]
     },
     "execution_count": 12,
     "metadata": {},
     "output_type": "execute_result"
    }
   ],
   "source": [
    "query[0].content"
   ]
  },
  {
   "cell_type": "code",
   "execution_count": 13,
   "metadata": {},
   "outputs": [],
   "source": [
    "response = chat(query)"
   ]
  },
  {
   "cell_type": "code",
   "execution_count": 14,
   "metadata": {},
   "outputs": [],
   "source": [
    "response_dict = parser.parse(response.content)"
   ]
  },
  {
   "cell_type": "code",
   "execution_count": 15,
   "metadata": {},
   "outputs": [
    {
     "data": {
      "text/plain": [
       "\"Barcelona Football Club, commonly referred to as Barcelona, is a professional football club based in Barcelona, Catalonia, Spain. Founded in 1899 by a group of Swiss, English, and Catalan footballers led by Joan Gamper, the club has become a symbol of Catalan culture and identity. Barcelona is one of the most successful clubs in Spanish and European football, having won numerous domestic and international titles, including 26 La Liga titles, 31 Copa del Rey titles, and 5 UEFA Champions League titles. The club is known for its attractive style of play, often referred to as 'tiki-taka', and has produced many legendary players such as Johan Cruyff, Lionel Messi, and Xavi Hernandez.\""
      ]
     },
     "execution_count": 15,
     "metadata": {},
     "output_type": "execute_result"
    }
   ],
   "source": [
    "response_dict['English']"
   ]
  },
  {
   "cell_type": "code",
   "execution_count": 16,
   "metadata": {},
   "outputs": [
    {
     "data": {
      "text/plain": [
       "\"Le Football Club de Barcelone, communément appelé Barcelone, est un club de football professionnel basé à Barcelone, en Catalogne, en Espagne. Fondé en 1899 par un groupe de joueurs de football suisses, anglais et catalans dirigé par Joan Gamper, le club est devenu un symbole de la culture et de l'identité catalanes. Barcelone est l'un des clubs les plus réussis du football espagnol et européen, ayant remporté de nombreux titres nationaux et internationaux, dont 26 titres de La Liga, 31 titres de la Copa del Rey et 5 titres de la Ligue des champions de l'UEFA. Le club est connu pour son style de jeu attrayant, souvent appelé 'tiki-taka', et a produit de nombreux joueurs légendaires tels que Johan Cruyff, Lionel Messi et Xavi Hernandez.\""
      ]
     },
     "execution_count": 16,
     "metadata": {},
     "output_type": "execute_result"
    }
   ],
   "source": [
    "response_dict['French']"
   ]
  },
  {
   "cell_type": "markdown",
   "metadata": {},
   "source": [
    "#### Memory management "
   ]
  },
  {
   "cell_type": "code",
   "execution_count": 17,
   "metadata": {},
   "outputs": [],
   "source": [
    "from langchain.chains import ConversationChain\n",
    "from langchain.memory import (ConversationBufferMemory, \n",
    "                              ConversationBufferWindowMemory, \n",
    "                              ConversationTokenBufferMemory, # token limit\n",
    "                              ConversationSummaryBufferMemory # summary of conversation with token limit \n",
    "                              )"
   ]
  },
  {
   "cell_type": "code",
   "execution_count": 18,
   "metadata": {},
   "outputs": [],
   "source": [
    "memory = ConversationBufferMemory()"
   ]
  },
  {
   "cell_type": "code",
   "execution_count": 19,
   "metadata": {},
   "outputs": [],
   "source": [
    "conversation = ConversationChain(\n",
    "    llm=chat,\n",
    "    memory=memory,\n",
    "    verbose=True\n",
    ")"
   ]
  },
  {
   "cell_type": "code",
   "execution_count": null,
   "metadata": {},
   "outputs": [],
   "source": [
    "conversation.predict(input='Tell me about language models')\n"
   ]
  },
  {
   "cell_type": "code",
   "execution_count": null,
   "metadata": {},
   "outputs": [],
   "source": [
    "conversation.predict(input='why are they not perfect')"
   ]
  },
  {
   "cell_type": "code",
   "execution_count": null,
   "metadata": {},
   "outputs": [],
   "source": [
    "window_memory =ConversationBufferWindowMemory(k=1) # k - Keeps track of n recent messages "
   ]
  },
  {
   "cell_type": "code",
   "execution_count": null,
   "metadata": {},
   "outputs": [],
   "source": [
    "conversation_windowed = ConversationChain(\n",
    "    llm=chat,\n",
    "    memory=window_memory,\n",
    "    verbose=True\n",
    ")"
   ]
  },
  {
   "cell_type": "code",
   "execution_count": null,
   "metadata": {},
   "outputs": [],
   "source": [
    "conversation_windowed.predict(input='Hi, my name is folabi')"
   ]
  },
  {
   "cell_type": "code",
   "execution_count": null,
   "metadata": {},
   "outputs": [],
   "source": [
    "conversation_windowed.predict(input='what is my name')"
   ]
  },
  {
   "cell_type": "code",
   "execution_count": null,
   "metadata": {},
   "outputs": [],
   "source": [
    "conversation_windowed.predict(input='what is 1 + 2')"
   ]
  },
  {
   "cell_type": "code",
   "execution_count": null,
   "metadata": {},
   "outputs": [],
   "source": [
    "conversation_windowed.predict(input='what is my name?')"
   ]
  },
  {
   "cell_type": "markdown",
   "metadata": {},
   "source": [
    "#### Chains "
   ]
  },
  {
   "cell_type": "markdown",
   "metadata": {},
   "source": [
    "- LLMChain - model + prompt (sequentially)\n",
    "- SimpleSequentialChain - runs chains sequentially (Single input variables)\n",
    "- SequentialChain - runs chains sequentially (multiple input variables)\n",
    "- Routerchain - combines chains based on a condition\n"
   ]
  },
  {
   "cell_type": "code",
   "execution_count": 20,
   "metadata": {},
   "outputs": [],
   "source": [
    "from langchain.chains import LLMChain\n",
    "from langchain.chains import SimpleSequentialChain"
   ]
  },
  {
   "cell_type": "code",
   "execution_count": 21,
   "metadata": {},
   "outputs": [],
   "source": [
    "llm = ChatOpenAI(\n",
    "    temperature=0.9,\n",
    ")"
   ]
  },
  {
   "cell_type": "code",
   "execution_count": 22,
   "metadata": {},
   "outputs": [],
   "source": [
    "prompt_temp = ChatPromptTemplate.from_template(\n",
    "    template='Your task is to list five football players that have worn a given jearsy number in barcelona {number}'\n",
    ")"
   ]
  },
  {
   "cell_type": "code",
   "execution_count": 23,
   "metadata": {},
   "outputs": [],
   "source": [
    "chain = LLMChain(llm=llm, prompt=prompt_temp)"
   ]
  },
  {
   "cell_type": "code",
   "execution_count": 24,
   "metadata": {},
   "outputs": [
    {
     "data": {
      "text/plain": [
       "'Five football players who have worn the number 10 jersey for Barcelona are:\\n\\n1. Ronaldinho: Ronaldinho is widely regarded as one of the greatest players to have worn the number 10 jersey for Barcelona. He played for the club from 2003 to 2008 and was known for his exceptional skill, creativity, and flair on the field.\\n\\n2. Lionel Messi: After Ronaldinho, Lionel Messi took over the number 10 jersey at Barcelona. Messi played for the club from 2003 to 2021, establishing himself as an all-time great. He won numerous individual awards and led Barcelona to numerous domestic and international titles.\\n\\n3. Rivaldo: Rivaldo, a Brazilian forward, wore the number 10 jersey for Barcelona from 1997 to 2002. He was a key player for the club during his time, earning the FIFA World Player of the Year award in 1999.\\n\\n4. Diego Maradona: Although his time at Barcelona was relatively short, Diego Maradona is an iconic figure in football history. He wore the number 10 jersey for the club during the 1982-1984 seasons and left a lasting impression on fans with his exceptional skills.\\n\\n5. Giovanni Silva de Oliveira (Giovanni): Giovanni, a Brazilian attacking midfielder, wore the number 10 jersey for Barcelona from 1996 to 1999. Although his time at the club was overshadowed by bigger names, he still made a notable contribution to the team.'"
      ]
     },
     "execution_count": 24,
     "metadata": {},
     "output_type": "execute_result"
    }
   ],
   "source": [
    "jearsy_number = 10\n",
    "chain.run(jearsy_number)"
   ]
  },
  {
   "cell_type": "code",
   "execution_count": 25,
   "metadata": {},
   "outputs": [],
   "source": [
    "second_prompt = ChatPromptTemplate.from_template(\n",
    "    template='Your task is to give a summary about the following players {players}'\n",
    ")"
   ]
  },
  {
   "cell_type": "code",
   "execution_count": 26,
   "metadata": {},
   "outputs": [],
   "source": [
    "chain_two = LLMChain(llm=llm, prompt=second_prompt)"
   ]
  },
  {
   "cell_type": "code",
   "execution_count": 27,
   "metadata": {},
   "outputs": [],
   "source": [
    "overall_simple_chain = SimpleSequentialChain(chains=[chain, chain_two],\n",
    "                                            #  verbose=True\n",
    "                                            )"
   ]
  },
  {
   "cell_type": "code",
   "execution_count": null,
   "metadata": {},
   "outputs": [],
   "source": [
    "overall_simple_chain.run(jearsy_number)"
   ]
  },
  {
   "cell_type": "code",
   "execution_count": null,
   "metadata": {},
   "outputs": [],
   "source": []
  },
  {
   "cell_type": "markdown",
   "metadata": {},
   "source": []
  },
  {
   "cell_type": "code",
   "execution_count": null,
   "metadata": {},
   "outputs": [],
   "source": []
  },
  {
   "cell_type": "code",
   "execution_count": null,
   "metadata": {},
   "outputs": [],
   "source": []
  },
  {
   "cell_type": "code",
   "execution_count": null,
   "metadata": {},
   "outputs": [],
   "source": []
  }
 ],
 "metadata": {
  "kernelspec": {
   "display_name": "env-I1MV0Xfu",
   "language": "python",
   "name": "python3"
  },
  "language_info": {
   "codemirror_mode": {
    "name": "ipython",
    "version": 3
   },
   "file_extension": ".py",
   "mimetype": "text/x-python",
   "name": "python",
   "nbconvert_exporter": "python",
   "pygments_lexer": "ipython3",
   "version": "3.9.12"
  }
 },
 "nbformat": 4,
 "nbformat_minor": 2
}
