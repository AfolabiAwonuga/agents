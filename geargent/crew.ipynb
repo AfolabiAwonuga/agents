{
 "cells": [
  {
   "cell_type": "code",
   "execution_count": 1,
   "metadata": {},
   "outputs": [
    {
     "data": {
      "text/plain": [
       "True"
      ]
     },
     "execution_count": 1,
     "metadata": {},
     "output_type": "execute_result"
    }
   ],
   "source": [
    "import os\n",
    "from dotenv import load_dotenv\n",
    "from langchain.agents import load_tools\n",
    "from langchain_openai import ChatOpenAI\n",
    "from crewai import Agent, Task, Crew, Process\n",
    "from langchain.tools import DuckDuckGoSearchRun\n",
    "\n",
    "load_dotenv()"
   ]
  },
  {
   "cell_type": "code",
   "execution_count": 2,
   "metadata": {},
   "outputs": [],
   "source": [
    "KEY = os.environ.get(\"OPENAI_API_KEY\")"
   ]
  },
  {
   "cell_type": "code",
   "execution_count": 3,
   "metadata": {},
   "outputs": [],
   "source": [
    "llm=ChatOpenAI(\n",
    "    model=\"gpt-4\"\n",
    ")"
   ]
  },
  {
   "cell_type": "markdown",
   "metadata": {},
   "source": [
    "##### AGENTS"
   ]
  },
  {
   "cell_type": "code",
   "execution_count": 4,
   "metadata": {},
   "outputs": [],
   "source": [
    "# search tool\n",
    "tool = DuckDuckGoSearchRun()"
   ]
  },
  {
   "cell_type": "code",
   "execution_count": 5,
   "metadata": {},
   "outputs": [],
   "source": [
    "grabagent = Agent(\n",
    "    role=\"Information Retrieval Agent\",\n",
    "    goal=\"Retrieve comprehensive information about a specified audio equipment.\",\n",
    "    backstory=\"You operate as an AI assistant specializing in audio engineering, dedicated to gathering detailed data on audio equipment.\",\n",
    "    verbose=True,\n",
    "    allow_delegation=False,\n",
    "    tools=[tool],\n",
    "    llm=llm\n",
    ")\n",
    "\n",
    "revagent = Agent(\n",
    "    role=\"Sentiment Analysis Agent\",\n",
    "    goal=\"Evaluate the overall sentiment (negative, neutral, or positive) of a given audio equipment based on provided information.\",\n",
    "    backstory=\"You function as an AI assistant with extensive expertise in sentiment analysis, aiming to gauge the emotional tone associated with the audio equipment.\",\n",
    "    verbose=True,\n",
    "    allow_delegation=False,\n",
    "    llm=llm\n",
    ")\n",
    "\n",
    "decisionagent = Agent(\n",
    "    role=\"Decision-Making Advisor\",\n",
    "    goal=\"Identify two alternative audio equipments and provide investment recommendations by comparing the specified equipment with the alternatives.\",\n",
    "    backstory=\"You are an AI assistant with strong decision making skillset.\",\n",
    "    verbose=True,\n",
    "    allow_delegation=False,\n",
    "    tools=[tool],\n",
    "    llm=llm\n",
    ")"
   ]
  },
  {
   "cell_type": "markdown",
   "metadata": {},
   "source": [
    "##### TASKS"
   ]
  },
  {
   "cell_type": "code",
   "execution_count": 6,
   "metadata": {},
   "outputs": [],
   "source": [
    "grab_task = Task(\n",
    "    description=\"I am looking to invest in the Neve 1073 preamp\",\n",
    "    agent=grabagent\n",
    ")\n",
    "rev_task = Task(\n",
    "    description=\"Evaluate the overall sentiment as negative, neutral, or positive from the information provided\",\n",
    "    agent=revagent\n",
    ")\n",
    "decision_task = Task(\n",
    "    description=\"Identify two alternative audio equipments and provide investment recommendations by comparing the specified equipment with the alternatives.\",\n",
    "    agent=decisionagent\n",
    ")"
   ]
  },
  {
   "cell_type": "code",
   "execution_count": 7,
   "metadata": {},
   "outputs": [],
   "source": [
    "crew = Crew(\n",
    "    agents=[grabagent, revagent, decisionagent],\n",
    "    tasks=[grab_task, rev_task, decision_task],\n",
    "    verbose=2,\n",
    "    process=Process.sequential\n",
    ")"
   ]
  },
  {
   "cell_type": "code",
   "execution_count": 8,
   "metadata": {},
   "outputs": [
    {
     "name": "stdout",
     "output_type": "stream",
     "text": [
      "[DEBUG]: Working Agent: Information Retrieval Agent\n",
      "[INFO]: Starting Task: I am looking to invest in the Neve 1073 preamp\n",
      "\n",
      "\n",
      "\u001b[1m> Entering new CrewAgentExecutor chain...\u001b[0m\n",
      "\u001b[32;1m\u001b[1;3mThought: Do I need to use a tool? Yes\n",
      "Action: duckduckgo_search\n",
      "Action Input: Neve 1073 preamp review\u001b[0m\u001b[93m \n",
      "\n",
      "Customer rating: (31) Available for 889.00 € at More from Warm Audio BAE 1073D The 1073D brings the famous console channel strip to the 500-series format in classic BAE style. This means uncompromisingly high-quality design and pristine analogue signal path . At a Glance In the world of professional audio gear, few names hold as much sway as the Neve 1073DPA Preamp. Renowned for its iconic sound and versatile capabilities, this preamp has become a timeless classic that continues to capture the attention of audio enthusiasts and industry professionals alike. One of his most influential designs was the Neve 1073 preamp, a feature of many of his recording consoles. These preamps are highly regarded for their amazing tone, great sounding EQ, and the all-around musicality that they impart on almost any instrument or vocal. If it were up to most of us, we'd have studios chock full of 1073 pres. NoiseAsh NEED 73 Class-A British tone in Your DAW Get the authentic sound of a legendary 70s console on your tracks. Comes bundled with LANDR Studio—get over 30 plugins and unlimited AI-mastering and music distribution. Get LANDR Studio What is the Neve 1073? Amps Reviews You May Also Be Interested In... By Jesse Neo, PhD Nov 17th, 2023 The Neve 1073DPX Preamp is a rackmountable unit that has been designed to provide the user with the classic sound of the Neve 1073 mic preamp.\n",
      "\u001b[00m\n",
      "\u001b[32;1m\u001b[1;3mDo I need to use a tool? No\n",
      "Final Answer: The Neve 1073 preamp is highly regarded in the world of professional audio gear for its iconic sound and versatile capabilities. It is known for its excellent tone, superb EQ, and the overall musicality it adds to virtually any instrument or vocal. This preamp is a renowned classic that continues to captivate both audio enthusiasts and industry professionals. It's worth noting that the Neve 1073 is a feature of many recording consoles designed by Rupert Neve, one of the most influential figures in the audio industry. The 1073DPA Preamp is a rackmountable unit that carries the classic sound of the Neve 1073 mic preamp. The 1073D brings the famous console channel strip to the 500-series format in classic BAE style, offering an uncompromisingly high-quality design and pristine analogue signal path. If you are looking for the authentic sound of a legendary 70s console on your tracks, investing in the Neve 1073 preamp could be a great choice.\u001b[0m\n",
      "\n",
      "\u001b[1m> Finished chain.\u001b[0m\n",
      "[DEBUG]: [Information Retrieval Agent] Task output: The Neve 1073 preamp is highly regarded in the world of professional audio gear for its iconic sound and versatile capabilities. It is known for its excellent tone, superb EQ, and the overall musicality it adds to virtually any instrument or vocal. This preamp is a renowned classic that continues to captivate both audio enthusiasts and industry professionals. It's worth noting that the Neve 1073 is a feature of many recording consoles designed by Rupert Neve, one of the most influential figures in the audio industry. The 1073DPA Preamp is a rackmountable unit that carries the classic sound of the Neve 1073 mic preamp. The 1073D brings the famous console channel strip to the 500-series format in classic BAE style, offering an uncompromisingly high-quality design and pristine analogue signal path. If you are looking for the authentic sound of a legendary 70s console on your tracks, investing in the Neve 1073 preamp could be a great choice.\n",
      "\n",
      "\n",
      "[DEBUG]: Working Agent: Sentiment Analysis Agent\n",
      "[INFO]: Starting Task: Evaluate the overall sentiment as negative, neutral, or positive from the information provided\n",
      "\n",
      "\n",
      "\u001b[1m> Entering new CrewAgentExecutor chain...\u001b[0m\n",
      "\u001b[32;1m\u001b[1;3mThought: Do I need to use a tool? No\n",
      "Final Answer: The overall sentiment towards the Neve 1073 preamp is highly positive. It is highly regarded for its excellent tone, superb EQ, and the overall musicality it adds to virtually any instrument or vocal. Moreover, being associated with Rupert Neve, one of the most influential figures in the audio industry, further enhances its positive reputation. The Neve 1073 preamp is consistently referred to as an iconic, classic, and high-quality piece of audio equipment.\u001b[0m\n",
      "\n",
      "\u001b[1m> Finished chain.\u001b[0m\n",
      "[DEBUG]: [Sentiment Analysis Agent] Task output: The overall sentiment towards the Neve 1073 preamp is highly positive. It is highly regarded for its excellent tone, superb EQ, and the overall musicality it adds to virtually any instrument or vocal. Moreover, being associated with Rupert Neve, one of the most influential figures in the audio industry, further enhances its positive reputation. The Neve 1073 preamp is consistently referred to as an iconic, classic, and high-quality piece of audio equipment.\n",
      "\n",
      "\n",
      "[DEBUG]: Working Agent: Decision-Making Advisor\n",
      "[INFO]: Starting Task: Identify two alternative audio equipments and provide investment recommendations by comparing the specified equipment with the alternatives.\n",
      "\n",
      "\n",
      "\u001b[1m> Entering new CrewAgentExecutor chain...\u001b[0m\n",
      "\u001b[32;1m\u001b[1;3mThought: Do I need to use a tool? Yes\n",
      "Action: duckduckgo_search\n",
      "Action Input: Best alternatives to Neve 1073 preamp\u001b[0m\u001b[93m \n",
      "\n",
      "3 500 Series Options 4 Should you get a Neve 1073 Clone? Our Top 3 Picks Warm Audio WA73-EQ Microphone Preamp 8.5/10 This single channel 1073 clone is the best combination of value and quality. Warm Audio is known for the affordable and faithful reproductions of classic audio gear, and their WA73-EQ is no exception. Get LANDR Studio What is the Neve 1073? The Neve 1073 is a channel strip, meaning it includes a mic preamp stage as well as an equalizer and output section. The term channel strip originally referred to the individual channels in an analog console. That allowed us a fair comparison of the performance. The microphone we used was a Neumann U 87 Ai, a mic we know extremely well and pairs great with a 1073 style preamp. Now, the purpose of the comparison wasn't to see which preamp sounded most like a vintage Neve 1073. UAD Neve 1073. The analog mixing consoles made by Neve Electronics in the 1970s contain some of the most sought-after mic preamps of all time. One of the most often cloned and copied is the 1073 preamp and EQ module found in the legendary 80-series console. While there are many plugin versions available, UAD offers one of the most accurate. The Best Neve 1073 Clones: An In-Depth Guide. The Neve 1073 is one of the most iconic and sought-after mixing consoles in history. It's been used on countless classic recordings, from The Beatles' \"Sgt. Pepper's Lonely Hearts Club Band\" to Michael Jackson's \"Thriller.\" The 1073's unique sound is due to its combination of ...\n",
      "\u001b[00m\n",
      "\u001b[32;1m\u001b[1;3mBased on the search results, two notable alternatives to the Neve 1073 preamp are the Warm Audio WA73-EQ Microphone Preamp and the UAD Neve 1073. \n",
      "\n",
      "The Warm Audio WA73-EQ is praised for its combination of value and quality, offering a faithful reproduction of classic audio gear. It is known for being affordable while maintaining a high level of performance, making it a great investment for those seeking quality audio equipment on a budget.\n",
      "\n",
      "On the other hand, the UAD Neve 1073 is one of the most accurate digital versions of the iconic 1073 preamp and EQ module found in the legendary 80-series console. If digital is more your speed, then this is likely the better investment. It maintains the iconic sound and functionality of the original, while offering the convenience and flexibility of a digital platform. \n",
      "\n",
      "In conclusion, both alternatives offer unique advantages. The Warm Audio WA73-EQ is a great choice for those seeking a budget-friendly option without sacrificing quality, whereas the UAD Neve 1073 offers a faithful digital reproduction of the iconic preamp. Both would be solid investments depending on your specific needs and preferences.\u001b[0mInvalid Format: Missing 'Action:' after 'Thought:\u001b[32;1m\u001b[1;3mDo I need to use a tool? No\n",
      "Final Answer: Based on my analysis, two notable alternatives to the Neve 1073 preamp are the Warm Audio WA73-EQ Microphone Preamp and the UAD Neve 1073. \n",
      "\n",
      "The Warm Audio WA73-EQ is praised for its combination of value and quality, offering a faithful reproduction of classic audio gear. It is known for being affordable while maintaining a high level of performance, making it a great investment for those seeking quality audio equipment on a budget.\n",
      "\n",
      "On the other hand, the UAD Neve 1073 is one of the most accurate digital versions of the iconic 1073 preamp and EQ module found in the legendary 80-series console. If digital is more your speed, then this is likely the better investment. It maintains the iconic sound and functionality of the original, while offering the convenience and flexibility of a digital platform. \n",
      "\n",
      "In conclusion, both alternatives offer unique advantages. The Warm Audio WA73-EQ is a great choice for those seeking a budget-friendly option without sacrificing quality, whereas the UAD Neve 1073 offers a faithful digital reproduction of the iconic preamp. Both would be solid investments depending on your specific needs and preferences.\u001b[0m\n",
      "\n",
      "\u001b[1m> Finished chain.\u001b[0m\n",
      "[DEBUG]: [Decision-Making Advisor] Task output: Based on my analysis, two notable alternatives to the Neve 1073 preamp are the Warm Audio WA73-EQ Microphone Preamp and the UAD Neve 1073. \n",
      "\n",
      "The Warm Audio WA73-EQ is praised for its combination of value and quality, offering a faithful reproduction of classic audio gear. It is known for being affordable while maintaining a high level of performance, making it a great investment for those seeking quality audio equipment on a budget.\n",
      "\n",
      "On the other hand, the UAD Neve 1073 is one of the most accurate digital versions of the iconic 1073 preamp and EQ module found in the legendary 80-series console. If digital is more your speed, then this is likely the better investment. It maintains the iconic sound and functionality of the original, while offering the convenience and flexibility of a digital platform. \n",
      "\n",
      "In conclusion, both alternatives offer unique advantages. The Warm Audio WA73-EQ is a great choice for those seeking a budget-friendly option without sacrificing quality, whereas the UAD Neve 1073 offers a faithful digital reproduction of the iconic preamp. Both would be solid investments depending on your specific needs and preferences.\n",
      "\n",
      "\n"
     ]
    }
   ],
   "source": [
    "result=crew.kickoff()"
   ]
  },
  {
   "cell_type": "code",
   "execution_count": null,
   "metadata": {},
   "outputs": [],
   "source": []
  },
  {
   "cell_type": "code",
   "execution_count": null,
   "metadata": {},
   "outputs": [],
   "source": []
  }
 ],
 "metadata": {
  "kernelspec": {
   "display_name": "agents-0y0_WJic",
   "language": "python",
   "name": "python3"
  },
  "language_info": {
   "codemirror_mode": {
    "name": "ipython",
    "version": 3
   },
   "file_extension": ".py",
   "mimetype": "text/x-python",
   "name": "python",
   "nbconvert_exporter": "python",
   "pygments_lexer": "ipython3",
   "version": "3.11.1"
  }
 },
 "nbformat": 4,
 "nbformat_minor": 2
}
